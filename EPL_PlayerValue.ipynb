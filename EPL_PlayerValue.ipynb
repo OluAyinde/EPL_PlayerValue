{
 "cells": [
  {
   "attachments": {},
   "cell_type": "markdown",
   "metadata": {},
   "source": [
    "#### Top 100 Most Valuable Players of English Premier League 2023/2024 Project"
   ]
  },
  {
   "cell_type": "code",
   "execution_count": 1,
   "metadata": {},
   "outputs": [
    {
     "name": "stderr",
     "output_type": "stream",
     "text": [
      "/Users/oluayinde/Library/Python/3.8/lib/python/site-packages/urllib3/__init__.py:35: NotOpenSSLWarning: urllib3 v2 only supports OpenSSL 1.1.1+, currently the 'ssl' module is compiled with 'LibreSSL 2.8.3'. See: https://github.com/urllib3/urllib3/issues/3020\n",
      "  warnings.warn(\n"
     ]
    }
   ],
   "source": [
    "#Importing required libraries\n",
    "from bs4 import BeautifulSoup\n",
    "import requests\n",
    "import pandas as pd\n",
    "import numpy as np\n",
    "import glob"
   ]
  },
  {
   "cell_type": "code",
   "execution_count": 2,
   "metadata": {},
   "outputs": [],
   "source": [
    "#Establishing connection with the url\n",
    "headers = {'User-Agent': \n",
    "           'Mozilla/5.0 (X11; Linux x86_64) AppleWebKit/537.36 (KHTML, like Gecko) Chrome/47.0.2526.106 Safari/537.36'}\n",
    "\n",
    "page = \"https://www.transfermarkt.co.uk/premier-league/marktwerte/wettbewerb/GB1/pos//detailpos/0/altersklasse/alle/plus/1\"\n",
    "pageTree = requests.get(page, headers=headers)\n",
    "pageSoup = BeautifulSoup(pageTree.content, 'html.parser')"
   ]
  },
  {
   "cell_type": "code",
   "execution_count": 3,
   "metadata": {},
   "outputs": [],
   "source": [
    "#Define function to scrape the required information from all pages\n",
    "def scrape_players():\n",
    "    num = 1\n",
    "    PlayersList = []\n",
    "    ImageList = []\n",
    "    NationList = []\n",
    "    AgeList = []\n",
    "    ClubList = []\n",
    "    ValuesList = []\n",
    "    Cleaned_Values=[]\n",
    "    while num != 5:\n",
    "          page = f\"https://www.transfermarkt.co.uk/premier-league/marktwerte/wettbewerb/GB1/pos//detailpos/0/altersklasse/alle/plus/1/page/{num}\"\n",
    "          pageTree = requests.get(page, headers=headers)\n",
    "          pageSoup = BeautifulSoup(pageTree.content, 'html.parser')\n",
    "          Players = pageSoup.find_all(\"img\", {\"class\": \"bilderrahmen-fixed lazy lazy\"})\n",
    "          for i in range(0, len(Players)):\n",
    "                PlayersList.append(str(Players [i]).split('\" class',1) [0].split('<img alt=\"',1) [1])\n",
    "          for i in range(0, len(Players)):\n",
    "                ImageList.append(str(Players [i]).split('\" src',1) [0].split(' data-src=\"',1) [1])\n",
    "          Nationality = pageSoup.find_all(\"td\", {\"class\": \"zentriert\"})\n",
    "          for i in range(1, (len(Players)*5),5):\n",
    "                NationList.append(str (Nationality [i]).split('title=\"',1) [1].split('\"/',1)[0])\n",
    "          Age = pageSoup. find_all(\"td\", {\"class\": \"zentriert\"})\n",
    "          for i in range(2, (len (Players)*5),5):\n",
    "                AgeList.append(int(str(Age[i]).split(\"(\",1) [0].split('\">',1)[1].split('</',1)[0]))\n",
    "          for i in range(3, (len (Players)*5),5):\n",
    "                 ClubList.append(str(Age[i]).split('<img alt=\"',1) [1].split('\" class=',1) [0])\n",
    "          Values = pageSoup.find_all(\"td\", {\"class\": \"rechts hauptlink\"})\n",
    "          for i in range(0, len(Values)):\n",
    "                ValuesList.append (Values [i].text.split(\"(\",1) [0])      \n",
    "          num = num + 1\n",
    "          Players = []\n",
    "          Nationality = []\n",
    "          Age = []\n",
    "          Values = []\n",
    "    \n",
    "    #Cleaning the Market Value\n",
    "    for a in range(len(ValuesList)):\n",
    "            if 'm' in ValuesList[a]:\n",
    "                    Cleaned_Values.append(float(ValuesList[a].split('m\\xa0')[0].split('€')[1])*1000000)\n",
    "            elif 'Th.' in ValuesList [a]:\n",
    "                    Cleaned_Values.append(float(ValuesList[a].split('Th.\\xa0')[0].split('€')[1])*1000)\n",
    "            else:\n",
    "                    Cleaned_Values.append(float(a))\n",
    "\n",
    "    #Creating a DataFrame\n",
    "    df = pd.DataFrame({\"Players\":PlayersList,\n",
    "                       \"Image\":ImageList,\n",
    "                       \"Nationality\":NationList,\n",
    "                       \"Age\":AgeList,\n",
    "                       \"Club\":ClubList,\n",
    "                       \"Market_Value\":Cleaned_Values})\n",
    "\n",
    "    #Export DataFrame to Excel File\n",
    "    df.to_excel('/Users/oluayinde/Downloads/player_data.xlsx',index=False)\n",
    "\n",
    "    #Check if file exists in directory \n",
    "    directory = glob.glob('/Users/oluayinde/Downloads/*')\n",
    "    data = '/Users/oluayinde/Downloads/player_data.xlsx'\n",
    "    return 'Function executed and dataframe exported' if data in  directory else print('File not in working directory')  \n",
    "    pass"
   ]
  },
  {
   "cell_type": "code",
   "execution_count": 4,
   "metadata": {},
   "outputs": [
    {
     "data": {
      "text/plain": [
       "'Function executed and dataframe exported'"
      ]
     },
     "execution_count": 4,
     "metadata": {},
     "output_type": "execute_result"
    }
   ],
   "source": [
    "scrape_players()"
   ]
  }
 ],
 "metadata": {
  "kernelspec": {
   "display_name": "Python 3",
   "language": "python",
   "name": "python3"
  },
  "language_info": {
   "codemirror_mode": {
    "name": "ipython",
    "version": 3
   },
   "file_extension": ".py",
   "mimetype": "text/x-python",
   "name": "python",
   "nbconvert_exporter": "python",
   "pygments_lexer": "ipython3",
   "version": "3.8.9"
  },
  "orig_nbformat": 4
 },
 "nbformat": 4,
 "nbformat_minor": 2
}
